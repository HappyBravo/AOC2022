{
 "cells": [
  {
   "cell_type": "code",
   "execution_count": 30,
   "metadata": {},
   "outputs": [],
   "source": [
    "with open(\"day-11-input.txt\", 'r') as input_file:\n",
    "    given = [i for i in input_file.read().split(\"\\n\\n\")]"
   ]
  },
  {
   "cell_type": "code",
   "execution_count": 14,
   "metadata": {},
   "outputs": [
    {
     "data": {
      "text/plain": [
       "'Monkey 0:\\n  Starting items: 66, 71, 94\\n  Operation: new = old * 5\\n  Test: divisible by 3\\n    If true: throw to monkey 7\\n    If false: throw to monkey 4'"
      ]
     },
     "execution_count": 14,
     "metadata": {},
     "output_type": "execute_result"
    }
   ],
   "source": [
    "given[0] #,given[2]"
   ]
  },
  {
   "cell_type": "code",
   "execution_count": 35,
   "metadata": {},
   "outputs": [],
   "source": [
    "def monkey_decider(given_input, worry_divider, rounds, part=1):\n",
    "    count = [0]*len(given_input)\n",
    "    items = [[] for _ in range(len(given_input))]\n",
    "    lcm = 1 # FOR PART 2\n",
    "\n",
    "    for i, para in enumerate(given_input):\n",
    "        para = para.strip().split(\"\\n\")\n",
    "        item_start = para[1].split(\":\")[-1]\n",
    "        items[i] = [int(n) for n in item_start.split(\",\")]\n",
    "        # print(para[2])\n",
    "        multiplier = int(para[3].split(\" \")[-1])\n",
    "        if part == 2:\n",
    "            lcm *= multiplier\n",
    "\n",
    "    for _ in range(rounds):\n",
    "        for indx, para in enumerate(given_input):\n",
    "            para = para.strip().split(\"\\n\")\n",
    "            [sign, value] = para[2].split(\" \")[-2:]\n",
    "            divisor = int(para[3].split(\" \")[-1])\n",
    "            true_idx = int(para[4].split(\" \")[-1])\n",
    "            false_indx = int(para[5].split(\" \")[-1])\n",
    "\n",
    "            while len(items[indx]):\n",
    "                old = items[indx].pop()\n",
    "                new = eval(f\"{old} {sign} {old if value == 'old' else value}\")\n",
    "                new = new//worry_divider\n",
    "                reciveing_monkey_indx = true_idx if new % divisor == 0 else false_indx\n",
    "                if part == 1:\n",
    "                    items[reciveing_monkey_indx].append(new)\n",
    "                elif part == 2:\n",
    "                    items[reciveing_monkey_indx].append(new % lcm)\n",
    "                \n",
    "\n",
    "                count[indx] += 1\n",
    "    return count"
   ]
  },
  {
   "cell_type": "code",
   "execution_count": 36,
   "metadata": {},
   "outputs": [
    {
     "data": {
      "text/plain": [
       "55944"
      ]
     },
     "execution_count": 36,
     "metadata": {},
     "output_type": "execute_result"
    }
   ],
   "source": [
    "import math\n",
    "counts = monkey_decider(given, 3, 20)\n",
    "math.prod(sorted(counts)[-2:])"
   ]
  },
  {
   "cell_type": "markdown",
   "metadata": {},
   "source": [
    "Ans : 55944"
   ]
  },
  {
   "cell_type": "code",
   "execution_count": 38,
   "metadata": {},
   "outputs": [
    {
     "data": {
      "text/plain": [
       "15117269860"
      ]
     },
     "execution_count": 38,
     "metadata": {},
     "output_type": "execute_result"
    }
   ],
   "source": [
    "counts = monkey_decider(given, 1, 10000, 2)\n",
    "math.prod(sorted(counts)[-2:])"
   ]
  },
  {
   "cell_type": "markdown",
   "metadata": {},
   "source": [
    "Ans : 15117269860"
   ]
  },
  {
   "cell_type": "code",
   "execution_count": null,
   "metadata": {},
   "outputs": [],
   "source": []
  }
 ],
 "metadata": {
  "kernelspec": {
   "display_name": "Python 3.10.6 ('GlobalEnvironment')",
   "language": "python",
   "name": "python3"
  },
  "language_info": {
   "codemirror_mode": {
    "name": "ipython",
    "version": 3
   },
   "file_extension": ".py",
   "mimetype": "text/x-python",
   "name": "python",
   "nbconvert_exporter": "python",
   "pygments_lexer": "ipython3",
   "version": "3.10.6"
  },
  "orig_nbformat": 4,
  "vscode": {
   "interpreter": {
    "hash": "37e1fb1bec1a71cc872f04cbae7efa28b150da833be6d20ef6d7d455e70be8c5"
   }
  }
 },
 "nbformat": 4,
 "nbformat_minor": 2
}
