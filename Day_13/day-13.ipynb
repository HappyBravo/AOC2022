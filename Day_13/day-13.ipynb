{
 "cells": [
  {
   "cell_type": "code",
   "execution_count": 1,
   "metadata": {},
   "outputs": [],
   "source": [
    "with open(\"day-13-input.txt\", \"r\") as input_file:\n",
    "    pairs = [[eval(line) for line in lines.split(\"\\n\")] for lines in input_file.read().split(\"\\n\\n\")]"
   ]
  },
  {
   "cell_type": "code",
   "execution_count": 6,
   "metadata": {},
   "outputs": [
    {
     "data": {
      "text/plain": [
       "([[9, 1],\n",
       "  [[[8], 2, 5], 10, 5],\n",
       "  [[], [[0, 10, 2, 10, 2], [6]], 5],\n",
       "  [[10, []], [], [[5, 1, 3, 10], 5], [[], [], [10, 0]]],\n",
       "  [[4, 3], [[], [], [2, 8, 0, 6]], 4, [[8, 1, 7, 1], 1, [2, 9, 0], 4, 4]]],\n",
       " [[5],\n",
       "  [10, [[4, 9, 6, 5, 0], 1, 5, [], []], [9], 7, []],\n",
       "  [0, [[4, 3, 7, 8], [0, 1, 2, 5]]],\n",
       "  [[[], [8, 7, 8, 4, 1], 4, 9, 1], [[0, 8, 1], 6, [0, 7, 1, 1]], 6, 7, 9]])"
      ]
     },
     "execution_count": 6,
     "metadata": {},
     "output_type": "execute_result"
    }
   ],
   "source": [
    "pairs[0][0], pairs[0][1]#, pairs[1]"
   ]
  },
  {
   "cell_type": "code",
   "execution_count": 7,
   "metadata": {},
   "outputs": [],
   "source": [
    "def compare(l, r):\n",
    "    if l == []:\n",
    "        return 0 if r == [] else -1\n",
    "    if r == []:\n",
    "        return 1\n",
    "    if isinstance(l, list):\n",
    "        if isinstance(r, list):\n",
    "            x = compare(l[0], r[0])\n",
    "            return x if x else compare(l[1:], r[1:])\n",
    "        return compare(l, [r])\n",
    "    if isinstance(r, list):\n",
    "        return compare([l], r)\n",
    "    return -1 if l < r else 1 if r < l else 0\n",
    "    "
   ]
  },
  {
   "cell_type": "code",
   "execution_count": 8,
   "metadata": {},
   "outputs": [
    {
     "data": {
      "text/plain": [
       "5580"
      ]
     },
     "execution_count": 8,
     "metadata": {},
     "output_type": "execute_result"
    }
   ],
   "source": [
    "sum(i for i, p in enumerate(pairs, 1) if compare(p[0], p[1])<=0)"
   ]
  },
  {
   "cell_type": "markdown",
   "metadata": {},
   "source": [
    "Ans : 5580"
   ]
  },
  {
   "cell_type": "code",
   "execution_count": 9,
   "metadata": {},
   "outputs": [],
   "source": [
    "items = [item for p in pairs for item in p]"
   ]
  },
  {
   "cell_type": "code",
   "execution_count": 10,
   "metadata": {},
   "outputs": [
    {
     "data": {
      "text/plain": [
       "[[9, 1],\n",
       " [[[8], 2, 5], 10, 5],\n",
       " [[], [[0, 10, 2, 10, 2], [6]], 5],\n",
       " [[10, []], [], [[5, 1, 3, 10], 5], [[], [], [10, 0]]],\n",
       " [[4, 3], [[], [], [2, 8, 0, 6]], 4, [[8, 1, 7, 1], 1, [2, 9, 0], 4, 4]]]"
      ]
     },
     "execution_count": 10,
     "metadata": {},
     "output_type": "execute_result"
    }
   ],
   "source": [
    "items[0]"
   ]
  },
  {
   "cell_type": "code",
   "execution_count": 12,
   "metadata": {},
   "outputs": [
    {
     "data": {
      "text/plain": [
       "26200"
      ]
     },
     "execution_count": 12,
     "metadata": {},
     "output_type": "execute_result"
    }
   ],
   "source": [
    "( \n",
    "    1 + sum(1 for r in items if compare([[2]], r)>=0) \n",
    "    ) * ( \n",
    "        2 + sum(1 for r in items if compare([[6]], r)>=0)\n",
    "         )"
   ]
  },
  {
   "cell_type": "markdown",
   "metadata": {},
   "source": [
    "Ans : 26200"
   ]
  },
  {
   "cell_type": "code",
   "execution_count": null,
   "metadata": {},
   "outputs": [],
   "source": []
  }
 ],
 "metadata": {
  "kernelspec": {
   "display_name": "Python 3.10.6 ('GlobalEnvironment')",
   "language": "python",
   "name": "python3"
  },
  "language_info": {
   "codemirror_mode": {
    "name": "ipython",
    "version": 3
   },
   "file_extension": ".py",
   "mimetype": "text/x-python",
   "name": "python",
   "nbconvert_exporter": "python",
   "pygments_lexer": "ipython3",
   "version": "3.10.6"
  },
  "orig_nbformat": 4,
  "vscode": {
   "interpreter": {
    "hash": "37e1fb1bec1a71cc872f04cbae7efa28b150da833be6d20ef6d7d455e70be8c5"
   }
  }
 },
 "nbformat": 4,
 "nbformat_minor": 2
}
