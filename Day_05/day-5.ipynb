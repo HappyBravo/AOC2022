{
 "cells": [
  {
   "cell_type": "code",
   "execution_count": 14,
   "metadata": {},
   "outputs": [],
   "source": [
    "def disp(l_Arr):\n",
    "    for i in l_Arr:\n",
    "        print(i)"
   ]
  },
  {
   "cell_type": "code",
   "execution_count": 15,
   "metadata": {},
   "outputs": [],
   "source": [
    "def init_arr_maker(line, no_stack, sk_arr):\n",
    "    c = 0\n",
    "    for i in range(4*no_stack-1):\n",
    "        if line[i] not in \"[ ]\":\n",
    "            if c >= len(sk_arr):\n",
    "                sk_arr.append([])\n",
    "            \n",
    "            # print(\"Before appending\", sk_arr)\n",
    "            \n",
    "            sk_arr[c].append(line[i])\n",
    "            # print(\"After adding value\",sk_arr)\n",
    "        if i%4 == 3:\n",
    "            c+=1\n",
    "            if c >= len(sk_arr):\n",
    "                sk_arr.append([])\n",
    "    return sk_arr\n",
    "\n",
    "\n"
   ]
  },
  {
   "cell_type": "code",
   "execution_count": 19,
   "metadata": {},
   "outputs": [],
   "source": [
    "def commands(line, arr, q1=1):\n",
    "    _todo = line.split()\n",
    "    n, frm, t = list(map(int, [_todo[1], _todo[3], _todo[5]]))\n",
    "    # print(n,frm, t)\n",
    "    arr[t-1] = arr[t-1]+ ( (arr[frm-1][-n:])[::-1] if q1 else (arr[frm-1][-n:]) )\n",
    "    arr[frm-1] = arr[frm-1][:-n]\n",
    "    return arr"
   ]
  },
  {
   "cell_type": "code",
   "execution_count": 25,
   "metadata": {},
   "outputs": [
    {
     "name": "stdout",
     "output_type": "stream",
     "text": [
      "[['M', 'S', 'B', 'R'], ['L', 'N'], ['L'], ['W', 'D', 'J', 'F'], ['G', 'H', 'G', 'D'], ['C', 'Q', 'P', 'L', 'D', 'P', 'D', 'H', 'W', 'R', 'R', 'M', 'M', 'G', 'F', 'R', 'P', 'H', 'Z', 'C', 'N', 'J'], ['Q', 'Q', 'N', 'T', 'Q', 'L', 'B', 'L', 'M', 'T', 'G', 'L', 'V', 'M'], ['H', 'H', 'C'], ['V', 'T']]\n"
     ]
    }
   ],
   "source": [
    "stack_arr = []\n",
    "len(stack_arr)\n",
    "part = int(input(\"Part 1 or 2 ? (0 for part 2) : \"))\n",
    "\n",
    "with open(\"day-5-input.txt\", 'r') as input_file:\n",
    "    _n_ = 0\n",
    "    init_arr_flag = True\n",
    "\n",
    "    for line in input_file:\n",
    "        line = list(line.split('\\n'))[0]\n",
    "        # print(line)\n",
    "\n",
    "        if init_arr_flag:\n",
    "            n_stacks = (len(line)+1)//4 # '[X] ' = 4 spaces\n",
    "            # print(n_stacks)\n",
    "            if (n_stacks !=0): #_n_ == 0 or (n_stacks != _n_ and _n_ != 0):\n",
    "                stack_arr = init_arr_maker(line, n_stacks, stack_arr)\n",
    "                # _n_ = n_stacks\n",
    "\n",
    "            elif n_stacks == 0: # INITIAL ARRANGEMENT DONE ! \n",
    "                init_arr_flag = False\n",
    "                for i in range(len(stack_arr)):\n",
    "                    stack_arr[i] = stack_arr[i][::-1]\n",
    "                    stack_arr[i] = stack_arr[i][1:]\n",
    "                    # print(\"----\\n\", stack_arr)\n",
    "\n",
    "        else:\n",
    "            stack_arr = commands(line, stack_arr, part)\n",
    "            # disp(stack_arr)\n",
    "\n",
    "        #     break\n",
    "\n",
    "        # print( len(list(line.split('\\n'))[0]) )\n",
    "        # print(stack_arr)\n",
    "        # if int(input()):\n",
    "        #     break\n",
    "print(stack_arr)\n"
   ]
  },
  {
   "cell_type": "code",
   "execution_count": 26,
   "metadata": {},
   "outputs": [
    {
     "data": {
      "text/plain": [
       "'RNLFDJMCT'"
      ]
     },
     "execution_count": 26,
     "metadata": {},
     "output_type": "execute_result"
    }
   ],
   "source": [
    "\"\".join([i[-1] for i in stack_arr])"
   ]
  },
  {
   "cell_type": "markdown",
   "metadata": {},
   "source": [
    "Ans 'HNSNMTLHQ'"
   ]
  },
  {
   "cell_type": "markdown",
   "metadata": {},
   "source": [
    "Ans 'RNLFDJMCT'"
   ]
  },
  {
   "cell_type": "code",
   "execution_count": null,
   "metadata": {},
   "outputs": [],
   "source": []
  }
 ],
 "metadata": {
  "kernelspec": {
   "display_name": "Python 3.10.6 ('GlobalEnvironment')",
   "language": "python",
   "name": "python3"
  },
  "language_info": {
   "codemirror_mode": {
    "name": "ipython",
    "version": 3
   },
   "file_extension": ".py",
   "mimetype": "text/x-python",
   "name": "python",
   "nbconvert_exporter": "python",
   "pygments_lexer": "ipython3",
   "version": "3.10.6"
  },
  "orig_nbformat": 4,
  "vscode": {
   "interpreter": {
    "hash": "37e1fb1bec1a71cc872f04cbae7efa28b150da833be6d20ef6d7d455e70be8c5"
   }
  }
 },
 "nbformat": 4,
 "nbformat_minor": 2
}
