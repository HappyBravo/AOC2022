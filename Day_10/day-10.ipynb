{
 "cells": [
  {
   "cell_type": "code",
   "execution_count": 1,
   "metadata": {},
   "outputs": [],
   "source": [
    "with open(\"day-10-input.txt\", 'r') as input_file:\n",
    "    commands = input_file.read().splitlines()"
   ]
  },
  {
   "cell_type": "code",
   "execution_count": 2,
   "metadata": {},
   "outputs": [
    {
     "data": {
      "text/plain": [
       "('addx 1', 'addx 4', 'addx 1')"
      ]
     },
     "execution_count": 2,
     "metadata": {},
     "output_type": "execute_result"
    }
   ],
   "source": [
    "commands[0], commands[1], commands[5]"
   ]
  },
  {
   "cell_type": "code",
   "execution_count": 10,
   "metadata": {},
   "outputs": [
    {
     "name": "stdout",
     "output_type": "stream",
     "text": [
      "13740\n"
     ]
    }
   ],
   "source": [
    "x = 1\n",
    "\n",
    "def cycle_inc(x, cycle, signal):\n",
    "    cycle += 1\n",
    "    if cycle in range(20, 221, 40):\n",
    "        signal += x*cycle\n",
    "    return cycle, signal\n",
    "\n",
    "\n",
    "cycle = 0\n",
    "signal = 0\n",
    "for command in commands:\n",
    "    command = command.split()\n",
    "    if len(command) == 1:\n",
    "        cycle, signal = cycle_inc(x, cycle, signal)\n",
    "    elif command[0] == \"addx\":\n",
    "        #  IT TAKES 2 CYCLES\n",
    "        cycle, signal = cycle_inc(x, cycle, signal)\n",
    "        cycle, signal = cycle_inc(x, cycle, signal)\n",
    "        x += int(command[1])\n",
    "print(signal)"
   ]
  },
  {
   "cell_type": "markdown",
   "metadata": {},
   "source": [
    "Ans : 13740"
   ]
  },
  {
   "cell_type": "code",
   "execution_count": 13,
   "metadata": {},
   "outputs": [
    {
     "name": "stdout",
     "output_type": "stream",
     "text": [
      "####.#..#.###..###..####.####..##..#....\n",
      "...#.#..#.#..#.#..#.#....#....#..#.#....\n",
      "..#..#..#.#..#.#..#.###..###..#....#....\n",
      ".#...#..#.###..###..#....#....#....#....\n",
      "#....#..#.#....#.#..#....#....#..#.#....\n",
      "####..##..#....#..#.#....####..##..####.\n"
     ]
    }
   ],
   "source": [
    "def crt_display(crt):\n",
    "    for i in range(6):\n",
    "        print(\"\".join(crt[i*40:(i+1)*40]))\n",
    "\n",
    "def cycle_inc2(pos, cycle, crt):\n",
    "    if cycle%40 in [pos-1, pos, pos+1]:\n",
    "        crt[cycle] = '#'\n",
    "    cycle+=1\n",
    "    return cycle, crt\n",
    "\n",
    "x = 1\n",
    "cycle = 0\n",
    "crt = [\".\" for i in range(40*6)]\n",
    "\n",
    "for command in commands:\n",
    "    command = command.split()\n",
    "    if len(command) == 1:\n",
    "        cycle, crt = cycle_inc2(x, cycle, crt)\n",
    "    elif command[0] == \"addx\":\n",
    "        #  IT TAKES 2 CYCLES\n",
    "        cycle, crt = cycle_inc2(x, cycle, crt)\n",
    "        cycle, crt = cycle_inc2(x, cycle, crt)\n",
    "        x += int(command[1])\n",
    "# print(signal)\n",
    "\n",
    "crt_display(crt)\n"
   ]
  },
  {
   "cell_type": "markdown",
   "metadata": {},
   "source": [
    "Ans : ZUPRFECL"
   ]
  },
  {
   "cell_type": "code",
   "execution_count": null,
   "metadata": {},
   "outputs": [],
   "source": []
  }
 ],
 "metadata": {
  "kernelspec": {
   "display_name": "Python 3.10.6 ('GlobalEnvironment')",
   "language": "python",
   "name": "python3"
  },
  "language_info": {
   "codemirror_mode": {
    "name": "ipython",
    "version": 3
   },
   "file_extension": ".py",
   "mimetype": "text/x-python",
   "name": "python",
   "nbconvert_exporter": "python",
   "pygments_lexer": "ipython3",
   "version": "3.10.6"
  },
  "orig_nbformat": 4,
  "vscode": {
   "interpreter": {
    "hash": "37e1fb1bec1a71cc872f04cbae7efa28b150da833be6d20ef6d7d455e70be8c5"
   }
  }
 },
 "nbformat": 4,
 "nbformat_minor": 2
}
