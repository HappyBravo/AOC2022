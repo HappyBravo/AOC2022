{
 "cells": [
  {
   "cell_type": "code",
   "execution_count": 20,
   "metadata": {},
   "outputs": [
    {
     "name": "stdout",
     "output_type": "stream",
     "text": [
      "False\n",
      "True\n"
     ]
    }
   ],
   "source": [
    "a = [1, 2, 3, 4, 5]\n",
    "b = [1, 2, 3, 4]\n",
    "print(b[0] <= a[0] and b[-1] >= a[-1])  # b is covering a\n",
    "# or \n",
    "# input()\n",
    "print(a[0] <= b[0] and a[-1] >= b[-1]) # a is covering b"
   ]
  },
  {
   "cell_type": "code",
   "execution_count": 64,
   "metadata": {},
   "outputs": [],
   "source": [
    "def check_inside(a, b):\n",
    "    return (\n",
    "            (b[0] <= a[0] and b[-1] >= a[-1])\n",
    "            or\n",
    "            (a[0] <= b[0] and a[-1] >= b[-1])\n",
    "            )"
   ]
  },
  {
   "cell_type": "code",
   "execution_count": 66,
   "metadata": {},
   "outputs": [
    {
     "name": "stdout",
     "output_type": "stream",
     "text": [
      "538\n"
     ]
    }
   ],
   "source": [
    "_count = 0\n",
    "with open(\"day-4-input.txt\", 'r') as input_file:\n",
    "    for line in input_file:\n",
    "        l = list(line.split())[0]\n",
    "        a, b = l.split(',')\n",
    "        a = list(map(int, a.split('-')))\n",
    "        b = list(map(int, b.split('-')))\n",
    "        \n",
    "        # print(a, b)\n",
    "        # print(check_inside(a, b))\n",
    "        # if int(input()):\n",
    "        #     break\n",
    "        \n",
    "        if check_inside(a,b):\n",
    "            _count += 1\n",
    "print(_count)"
   ]
  },
  {
   "cell_type": "markdown",
   "metadata": {},
   "source": [
    "Ans 538"
   ]
  },
  {
   "cell_type": "code",
   "execution_count": 48,
   "metadata": {},
   "outputs": [
    {
     "name": "stdout",
     "output_type": "stream",
     "text": [
      "[10, 25] [20, 30]\n"
     ]
    }
   ],
   "source": [
    "a = [20, 30]\n",
    "b = [10, 25]\n",
    "a, b = sorted((a, b))\n",
    "print(a, b)"
   ]
  },
  {
   "cell_type": "code",
   "execution_count": 58,
   "metadata": {},
   "outputs": [],
   "source": [
    "def check_inside_2(a, b):\n",
    "    a, b = sorted((a, b))\n",
    "    return (a[-1] >= b[0])"
   ]
  },
  {
   "cell_type": "code",
   "execution_count": 67,
   "metadata": {},
   "outputs": [
    {
     "name": "stdout",
     "output_type": "stream",
     "text": [
      "792\n"
     ]
    }
   ],
   "source": [
    "_count = 0\n",
    "\n",
    "with open(\"day-4-input.txt\", 'r') as input_file:\n",
    "    for line in input_file:\n",
    "        l = list(line.split())[0]\n",
    "        a, b = l.split(',')\n",
    "        a = list(map(int, a.split('-')))\n",
    "        b = list(map(int, b.split('-')))\n",
    "        \n",
    "        # print(a, b)\n",
    "        # print(check_inside(a, b))  \n",
    "        # if int(input()):\n",
    "        #     break\n",
    "        \n",
    "        if check_inside_2(a,b):\n",
    "            _count += 1   \n",
    "print(_count)"
   ]
  },
  {
   "cell_type": "markdown",
   "metadata": {},
   "source": [
    "Ans 792"
   ]
  },
  {
   "cell_type": "code",
   "execution_count": null,
   "metadata": {},
   "outputs": [],
   "source": []
  }
 ],
 "metadata": {
  "kernelspec": {
   "display_name": "Python 3.10.6 ('GlobalEnvironment')",
   "language": "python",
   "name": "python3"
  },
  "language_info": {
   "codemirror_mode": {
    "name": "ipython",
    "version": 3
   },
   "file_extension": ".py",
   "mimetype": "text/x-python",
   "name": "python",
   "nbconvert_exporter": "python",
   "pygments_lexer": "ipython3",
   "version": "3.10.6"
  },
  "orig_nbformat": 4,
  "vscode": {
   "interpreter": {
    "hash": "37e1fb1bec1a71cc872f04cbae7efa28b150da833be6d20ef6d7d455e70be8c5"
   }
  }
 },
 "nbformat": 4,
 "nbformat_minor": 2
}
