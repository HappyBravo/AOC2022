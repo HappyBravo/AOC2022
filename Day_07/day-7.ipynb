{
 "cells": [
  {
   "cell_type": "code",
   "execution_count": 1,
   "metadata": {},
   "outputs": [],
   "source": [
    "dirs = []\n",
    "current_size = 0\n",
    "req_size = 30000000\n",
    "max_disk_size = 70000000"
   ]
  },
  {
   "cell_type": "code",
   "execution_count": 2,
   "metadata": {},
   "outputs": [],
   "source": [
    "def get_size(current_node):\n",
    "    if 'size' in current_node:\n",
    "        return int(current_node['size'])\n",
    "    summ = 0\n",
    "    for child in current_node['children'].values():\n",
    "        dir_size = get_size(child)\n",
    "        summ += dir_size\n",
    "    dirs.append(summ)\n",
    "    return summ\n"
   ]
  },
  {
   "cell_type": "code",
   "execution_count": 3,
   "metadata": {},
   "outputs": [
    {
     "name": "stdout",
     "output_type": "stream",
     "text": [
      "1582412\n"
     ]
    }
   ],
   "source": [
    "with open(\"day-7-input.txt\", 'r') as input_file:\n",
    "    _readlines = input_file.read()\n",
    "    _root = {\"children\" : {}, \"parent\" : None}\n",
    "    curr_dir = _root\n",
    "\n",
    "    for command in _readlines.splitlines():\n",
    "        if \"$ cd\" in command:\n",
    "            new_folder = command.split(\" \")[2]\n",
    "            if new_folder == \"..\":\n",
    "                curr_dir = curr_dir[\"parent\"]\n",
    "            elif new_folder == \"/\":\n",
    "                curr_dir = _root\n",
    "            else:\n",
    "                if new_folder not in curr_dir[\"children\"]:\n",
    "                    curr_dir[\"children\"][new_folder] = {\"children\" : {}, \"parent\" : curr_dir}\n",
    "                curr_dir = curr_dir[\"children\"][new_folder]\n",
    "        elif \"dir\" in command:\n",
    "            _dirt = command.split(\" \")[1]\n",
    "            curr_dir[\"children\"][_dirt] = {\"children\" : {}, \"parent\" : curr_dir}\n",
    "        elif command != \"$ ls\":\n",
    "            [file_size, file_name] = command.split(\" \")\n",
    "            curr_dir[\"children\"][file_name] = {\"parent\" : curr_dir, \"size\" : file_size}\n",
    "    \n",
    "    curr_dir = _root\n",
    "    current_size = get_size(curr_dir)\n",
    "\n",
    "    summ = 0\n",
    "    for _d in dirs:\n",
    "        if  _d <= 100000:\n",
    "            summ += _d\n",
    "\n",
    "    print(summ)"
   ]
  },
  {
   "cell_type": "markdown",
   "metadata": {},
   "source": [
    "Ans : 1582412"
   ]
  },
  {
   "cell_type": "code",
   "execution_count": 4,
   "metadata": {},
   "outputs": [
    {
     "name": "stdout",
     "output_type": "stream",
     "text": [
      "3696336\n"
     ]
    }
   ],
   "source": [
    "dirs.sort()\n",
    "avail = max_disk_size - current_size\n",
    "summ_dirs = 0\n",
    "\n",
    "for _d in dirs:\n",
    "    if (avail + _d) >= req_size:\n",
    "        summ_dirs+=_d\n",
    "        break\n",
    "    \n",
    "print(summ_dirs)"
   ]
  },
  {
   "cell_type": "markdown",
   "metadata": {},
   "source": [
    "Ans : 3696336"
   ]
  },
  {
   "cell_type": "code",
   "execution_count": null,
   "metadata": {},
   "outputs": [],
   "source": []
  }
 ],
 "metadata": {
  "kernelspec": {
   "display_name": "Python 3.10.6 ('GlobalEnvironment')",
   "language": "python",
   "name": "python3"
  },
  "language_info": {
   "codemirror_mode": {
    "name": "ipython",
    "version": 3
   },
   "file_extension": ".py",
   "mimetype": "text/x-python",
   "name": "python",
   "nbconvert_exporter": "python",
   "pygments_lexer": "ipython3",
   "version": "3.10.6"
  },
  "orig_nbformat": 4,
  "vscode": {
   "interpreter": {
    "hash": "37e1fb1bec1a71cc872f04cbae7efa28b150da833be6d20ef6d7d455e70be8c5"
   }
  }
 },
 "nbformat": 4,
 "nbformat_minor": 2
}
