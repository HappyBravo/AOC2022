{
 "cells": [
  {
   "cell_type": "code",
   "execution_count": 1,
   "metadata": {},
   "outputs": [],
   "source": [
    "dct = {}\n",
    "mx_indx = 0\n",
    "maxx = 0"
   ]
  },
  {
   "cell_type": "code",
   "execution_count": 4,
   "metadata": {},
   "outputs": [
    {
     "name": "stdout",
     "output_type": "stream",
     "text": [
      "71471\n"
     ]
    }
   ],
   "source": [
    "with open(\"day-1-input.txt\", 'r') as input_file:\n",
    "    summ = 0\n",
    "    indx = 0\n",
    "    for line in input_file:\n",
    "        if line == '\\n' :\n",
    "            indx += 1\n",
    "            dct[indx] = summ\n",
    "            if maxx <= summ:\n",
    "                maxx = summ\n",
    "                mx_indx = indx\n",
    "            summ = 0\n",
    "            # print(dct)\n",
    "            # input()\n",
    "            continue\n",
    "        summ += int(line)\n",
    "        # input()\n",
    "print(dct[mx_indx])"
   ]
  },
  {
   "cell_type": "code",
   "execution_count": 5,
   "metadata": {},
   "outputs": [
    {
     "data": {
      "text/plain": [
       "211189"
      ]
     },
     "execution_count": 5,
     "metadata": {},
     "output_type": "execute_result"
    }
   ],
   "source": [
    "sum(sorted(list(dct.values()), reverse=True)[0:3])"
   ]
  },
  {
   "cell_type": "code",
   "execution_count": null,
   "metadata": {},
   "outputs": [],
   "source": []
  }
 ],
 "metadata": {
  "kernelspec": {
   "display_name": "Python 3.10.6 ('GlobalEnvironment')",
   "language": "python",
   "name": "python3"
  },
  "language_info": {
   "codemirror_mode": {
    "name": "ipython",
    "version": 3
   },
   "file_extension": ".py",
   "mimetype": "text/x-python",
   "name": "python",
   "nbconvert_exporter": "python",
   "pygments_lexer": "ipython3",
   "version": "3.10.6"
  },
  "orig_nbformat": 4,
  "vscode": {
   "interpreter": {
    "hash": "37e1fb1bec1a71cc872f04cbae7efa28b150da833be6d20ef6d7d455e70be8c5"
   }
  }
 },
 "nbformat": 4,
 "nbformat_minor": 2
}
