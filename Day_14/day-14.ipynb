{
 "cells": [
  {
   "cell_type": "code",
   "execution_count": 1,
   "metadata": {},
   "outputs": [],
   "source": [
    "rocks_map = set()\n",
    "with open(\"day-14-input.txt\", \"r\") as input_file:\n",
    "    input_file = input_file.read().strip()\n",
    "    for line in input_file.split(\"\\n\"):\n",
    "        points = [tuple(map(int, p.split(\",\"))) for p in line.split(\"->\")]\n",
    "        # print(points)\n",
    "        # input()\n",
    "        for i in range(len(points)-1):\n",
    "            p1, p2 = points[i], points[i+1]\n",
    "            x_range = range(min(p1[0], p2[0]), max(p1[0], p2[0])+1)\n",
    "            # print(repr(x_range))\n",
    "            # input()\n",
    "            y_range = range(min(p1[1], p2[1]), max(p1[1], p2[1])+1)\n",
    "            rocks_map.update({(x,y) for x in x_range for y in y_range})\n",
    "        # print(rocks_map)\n",
    "        # input()\n",
    "        \n"
   ]
  },
  {
   "cell_type": "code",
   "execution_count": 2,
   "metadata": {},
   "outputs": [],
   "source": [
    "max_y = max([y for _, y in rocks_map])\n",
    "# xs = [x for x, _ in rocks_map]\n",
    "# min_x, max_x = min(xs), max(xs)"
   ]
  },
  {
   "cell_type": "code",
   "execution_count": 3,
   "metadata": {},
   "outputs": [
    {
     "data": {
      "text/plain": [
       "165"
      ]
     },
     "execution_count": 3,
     "metadata": {},
     "output_type": "execute_result"
    }
   ],
   "source": [
    "max_y"
   ]
  },
  {
   "cell_type": "code",
   "execution_count": 4,
   "metadata": {},
   "outputs": [],
   "source": [
    "x, y = (500, 0)"
   ]
  },
  {
   "cell_type": "code",
   "execution_count": 5,
   "metadata": {},
   "outputs": [
    {
     "name": "stdout",
     "output_type": "stream",
     "text": [
      "808\n",
      "26625\n"
     ]
    }
   ],
   "source": [
    "current = p1 = p2 = 0\n",
    "\n",
    "while True:\n",
    "    if (x, y) in rocks_map:\n",
    "        (x, y) = (500, 0)\n",
    "    if y > max_y and p1 == 0:\n",
    "        p1 = current\n",
    "    if (x, y+1) not in rocks_map and y < max_y+1:\n",
    "        y += 1\n",
    "    elif (x-1, y+1) not in rocks_map and y < max_y+1:\n",
    "        x -= 1\n",
    "        y += 1\n",
    "    elif (x+1, y+1) not in rocks_map and y < max_y+1:\n",
    "        x += 1\n",
    "        y += 1\n",
    "    else:\n",
    "        current += 1\n",
    "        rocks_map.add((x, y))\n",
    "    if (x, y) == (500, 0):\n",
    "        p2 = current\n",
    "        break\n",
    "print(p1)\n",
    "print(p2)\n",
    "\n"
   ]
  },
  {
   "cell_type": "code",
   "execution_count": null,
   "metadata": {},
   "outputs": [],
   "source": []
  }
 ],
 "metadata": {
  "kernelspec": {
   "display_name": "Python 3.10.6 ('GlobalEnvironment')",
   "language": "python",
   "name": "python3"
  },
  "language_info": {
   "codemirror_mode": {
    "name": "ipython",
    "version": 3
   },
   "file_extension": ".py",
   "mimetype": "text/x-python",
   "name": "python",
   "nbconvert_exporter": "python",
   "pygments_lexer": "ipython3",
   "version": "3.10.6"
  },
  "orig_nbformat": 4,
  "vscode": {
   "interpreter": {
    "hash": "37e1fb1bec1a71cc872f04cbae7efa28b150da833be6d20ef6d7d455e70be8c5"
   }
  }
 },
 "nbformat": 4,
 "nbformat_minor": 2
}
