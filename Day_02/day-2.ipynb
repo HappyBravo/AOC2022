{
 "cells": [
  {
   "cell_type": "markdown",
   "metadata": {},
   "source": [
    "#### 1st Column\n",
    "A = Rock\\\n",
    "B = Paper\\\n",
    "C = Scissors\n",
    "\n",
    "#### 2nd Column\n",
    "X = Rock - 1 point\\\n",
    "Y = Paper - 2 point\\\n",
    "Z = Scissors - 3 point\n",
    "\n",
    "### WINNING CONDITION\n",
    "Rock > Scissor\\\n",
    "Scissors > Paper\\\n",
    "Paper > Rock\n",
    "\n",
    "0 if lost\\\n",
    "3 if draw\\\n",
    "6 if won\n"
   ]
  },
  {
   "cell_type": "code",
   "execution_count": 4,
   "metadata": {},
   "outputs": [],
   "source": [
    "def get_points(match):\n",
    "    first, second = match # 1st column, 2nd column\n",
    "    p1 = 'ABC'.rfind(first) # Opponent elf\n",
    "    p2 = 'XYZ'.rfind(second) # Me\n",
    "    \n",
    "    '''\n",
    "    if both are equal, means its a draw\n",
    "\n",
    "    X + 1 = B -> Rock and Paper = lose\n",
    "    Y + 1 = C -> Paper and Scissors = lose\n",
    "    Z + 1 = A -> Scissors and Rock = lose\n",
    "\n",
    "    Else win\n",
    "    '''\n",
    "    point = 3 if p2==p1 else 0 if (p2+1)%3 == p1 else 6\n",
    "\n",
    "    return point + (p2 + 1)"
   ]
  },
  {
   "cell_type": "code",
   "execution_count": 12,
   "metadata": {},
   "outputs": [],
   "source": [
    "_points = 0\n",
    "with open(\"day-2-input.txt\") as input_file:\n",
    "    for line in input_file:\n",
    "        _arr = line.split()\n",
    "        _points += get_points(_arr)\n",
    "        # print(_arr)\n",
    "        # if int(input(\"Enter\")):\n",
    "        #     break"
   ]
  },
  {
   "cell_type": "code",
   "execution_count": 13,
   "metadata": {},
   "outputs": [
    {
     "data": {
      "text/plain": [
       "11603"
      ]
     },
     "execution_count": 13,
     "metadata": {},
     "output_type": "execute_result"
    }
   ],
   "source": [
    "_points"
   ]
  },
  {
   "cell_type": "code",
   "execution_count": 15,
   "metadata": {},
   "outputs": [],
   "source": [
    "def get_shapes(match):\n",
    "    first, second = match # 1st column, 2nd column\n",
    "    p1 = 'ABC'.rfind(first) # Opponent elf\n",
    "    p2 = 3*'XYZ'.rfind(second) # My move\n",
    "    \n",
    "    '''\n",
    "    if Y, index = 1, return what the elf gets\n",
    "\n",
    "    if X, index = 0, return (elf's + 1)th shape\n",
    "\n",
    "    X = B - 1 -> Rock and Paper = lose\n",
    "    Y = C - 1 -> Paper and Scissors = lose\n",
    "    Z = A - 1 -> Scissors and Rock = lose\n",
    "\n",
    "    if Z, index = 2, return (elf's - 1)th shape\n",
    "    '''\n",
    "    point = p1 if p2 == 3 else (p1+1)%3 if p2 == 6 else (p1-1)%3 \n",
    "\n",
    "    return point + (p2 + 1)"
   ]
  },
  {
   "cell_type": "code",
   "execution_count": 16,
   "metadata": {},
   "outputs": [],
   "source": [
    "_points = 0\n",
    "with open(\"day-2-input.txt\") as input_file:\n",
    "    for line in input_file:\n",
    "        _arr = line.split()\n",
    "        _points += get_shapes(_arr)"
   ]
  },
  {
   "cell_type": "code",
   "execution_count": 17,
   "metadata": {},
   "outputs": [
    {
     "data": {
      "text/plain": [
       "12725"
      ]
     },
     "execution_count": 17,
     "metadata": {},
     "output_type": "execute_result"
    }
   ],
   "source": [
    "_points"
   ]
  },
  {
   "cell_type": "code",
   "execution_count": null,
   "metadata": {},
   "outputs": [],
   "source": []
  }
 ],
 "metadata": {
  "kernelspec": {
   "display_name": "Python 3.10.6 ('GlobalEnvironment')",
   "language": "python",
   "name": "python3"
  },
  "language_info": {
   "codemirror_mode": {
    "name": "ipython",
    "version": 3
   },
   "file_extension": ".py",
   "mimetype": "text/x-python",
   "name": "python",
   "nbconvert_exporter": "python",
   "pygments_lexer": "ipython3",
   "version": "3.10.6"
  },
  "orig_nbformat": 4,
  "vscode": {
   "interpreter": {
    "hash": "37e1fb1bec1a71cc872f04cbae7efa28b150da833be6d20ef6d7d455e70be8c5"
   }
  }
 },
 "nbformat": 4,
 "nbformat_minor": 2
}
