{
 "cells": [
  {
   "cell_type": "markdown",
   "metadata": {},
   "source": [
    "a = 97\\\n",
    "z = 122\\\n",
    "A = 65\\\n",
    "Z = 90\n",
    "#### TAKE A as 27, Z as 52\n",
    "#### TAKE a as 1, z as 26"
   ]
  },
  {
   "cell_type": "code",
   "execution_count": 24,
   "metadata": {},
   "outputs": [
    {
     "data": {
      "text/plain": [
       "97"
      ]
     },
     "execution_count": 24,
     "metadata": {},
     "output_type": "execute_result"
    }
   ],
   "source": [
    "ord('a')"
   ]
  },
  {
   "cell_type": "code",
   "execution_count": 25,
   "metadata": {},
   "outputs": [
    {
     "data": {
      "text/plain": [
       "90"
      ]
     },
     "execution_count": 25,
     "metadata": {},
     "output_type": "execute_result"
    }
   ],
   "source": [
    "ord('Z')"
   ]
  },
  {
   "cell_type": "code",
   "execution_count": 45,
   "metadata": {},
   "outputs": [
    {
     "name": "stdout",
     "output_type": "stream",
     "text": [
      "7831\n"
     ]
    }
   ],
   "source": [
    "summ = 0\n",
    "with open(\"day-3-input.txt\", 'r') as input_file:\n",
    "    for line in input_file:\n",
    "        line = list(line.split())[0]\n",
    "        # print(line)\n",
    "\n",
    "        first, second = set(line[0:(len(line))//2]), set(line[(len(line))//2:])\n",
    "        # second = \n",
    "        # print(set(first))\n",
    "        # print(set(second))\n",
    "        # print(set(first).intersection(set(second)))\n",
    "        # if int(input()):\n",
    "        #     break\n",
    "        comm = list(first.intersection(second))[0]\n",
    "        summ += ord(comm)-96 if ord(comm) > 96 else ord(comm)-64+26\n",
    "        # print(comm, summ)\n",
    "        \n",
    "        # if int(input()):\n",
    "        #     break\n",
    "print(summ)"
   ]
  },
  {
   "cell_type": "markdown",
   "metadata": {},
   "source": [
    "ANS = 7831\n"
   ]
  },
  {
   "cell_type": "markdown",
   "metadata": {},
   "source": [
    "### NOW FIND COMMON ELEMENT IN 3 ROWS"
   ]
  },
  {
   "cell_type": "code",
   "execution_count": 50,
   "metadata": {},
   "outputs": [
    {
     "name": "stdout",
     "output_type": "stream",
     "text": [
      "2683\n"
     ]
    }
   ],
   "source": [
    "summ = 0\n",
    "ittr = 0\n",
    "with open(\"day-3-input.txt\", 'r') as input_file:\n",
    "    _data = set()\n",
    "    for line in input_file:\n",
    "        line = list(line.split())[0]\n",
    "        if len(_data) == 0:\n",
    "            _data = _data.union(set(line))\n",
    "\n",
    "        _data = _data.intersection(set(line))\n",
    "\n",
    "        if ittr%3 == 2 : # and ittr > 0:\n",
    "            comm = list(_data)[0]\n",
    "            summ += ord(comm)-96 if ord(comm) > 96 else ord(comm)-64+26\n",
    "            _data = set()\n",
    "        \n",
    "        ittr += 1\n",
    "\n",
    "print(summ)"
   ]
  },
  {
   "cell_type": "markdown",
   "metadata": {},
   "source": [
    "ANS = 2683\n"
   ]
  },
  {
   "cell_type": "code",
   "execution_count": 46,
   "metadata": {},
   "outputs": [
    {
     "data": {
      "text/plain": [
       "0"
      ]
     },
     "execution_count": 46,
     "metadata": {},
     "output_type": "execute_result"
    }
   ],
   "source": [
    "len(set())"
   ]
  },
  {
   "cell_type": "code",
   "execution_count": null,
   "metadata": {},
   "outputs": [],
   "source": []
  }
 ],
 "metadata": {
  "kernelspec": {
   "display_name": "Python 3.10.6 ('GlobalEnvironment')",
   "language": "python",
   "name": "python3"
  },
  "language_info": {
   "codemirror_mode": {
    "name": "ipython",
    "version": 3
   },
   "file_extension": ".py",
   "mimetype": "text/x-python",
   "name": "python",
   "nbconvert_exporter": "python",
   "pygments_lexer": "ipython3",
   "version": "3.10.6"
  },
  "orig_nbformat": 4,
  "vscode": {
   "interpreter": {
    "hash": "37e1fb1bec1a71cc872f04cbae7efa28b150da833be6d20ef6d7d455e70be8c5"
   }
  }
 },
 "nbformat": 4,
 "nbformat_minor": 2
}
